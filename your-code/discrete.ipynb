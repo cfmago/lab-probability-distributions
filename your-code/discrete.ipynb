{
 "cells": [
  {
   "cell_type": "markdown",
   "metadata": {},
   "source": [
    "# Before your start:\n",
    "\n",
    "    Read the README.md file\n",
    "    Comment as much as you can and use the resources (README.md file)\n",
    "    Happy learning!\n",
    "\n",
    "*Notes:* \n",
    "\n",
    "- Solve the questions with python.\n",
    "\n",
    "- Round the final answer to three decimal places."
   ]
  },
  {
   "cell_type": "markdown",
   "metadata": {},
   "source": [
    "## Bernoulli's Distribution\n",
    "\n",
    "In a basket containing 100 fruits, there are 60 apples and 40 oranges. \n",
    "\n",
    "A fruit is picked randomly from the basket. \n",
    "\n",
    "1. **What is the probability that the fruit is apple?**\n",
    "1. **What is the probability that it is an orange?**"
   ]
  },
  {
   "cell_type": "code",
   "execution_count": 7,
   "metadata": {},
   "outputs": [],
   "source": [
    "import numpy as np\n",
    "import math\n",
    "import pandas as pd\n",
    "import matplotlib.pyplot as plt\n",
    "import scipy.stats as stats"
   ]
  },
  {
   "cell_type": "code",
   "execution_count": 41,
   "metadata": {},
   "outputs": [
    {
     "data": {
      "image/png": "[encoded data removed]",
      "text/plain": [
       "<Figure size 432x288 with 1 Axes>"
      ]
     },
     "metadata": {
      "needs_background": "light"
     },
     "output_type": "display_data"
    }
   ],
   "source": [
    "\"\"\"\n",
    "Calculate:\n",
    "p = probability that the fruit is an apple \n",
    "q = probability that the fruit is an orange\n",
    "\"\"\"\n",
    "\n",
    "# your code here\n",
    "\n",
    "p = 0.6\n",
    "P = stats.bernoulli.rvs(p, size=100)\n",
    "plt.hist(P, align='mid')\n",
    "plt.xticks([0,1])\n",
    "plt.show()"
   ]
  },
  {
   "cell_type": "code",
   "execution_count": 42,
   "metadata": {},
   "outputs": [
    {
     "data": {
      "image/png": "[encoded data removed]",
      "text/plain": [
       "<Figure size 432x288 with 1 Axes>"
      ]
     },
     "metadata": {
      "needs_background": "light"
     },
     "output_type": "display_data"
    }
   ],
   "source": [
    "q = 0.4\n",
    "Q = stats.bernoulli.rvs(q, size=100)\n",
    "plt.hist(Q, align='mid')\n",
    "plt.xticks([0,1])\n",
    "plt.show()"
   ]
  },
  {
   "cell_type": "markdown",
   "metadata": {},
   "source": [
    "Now we take a random sample of 20 fruits from the basket. After each fruit is taken, a new fruit of the same type is replaced in the basket. Therefore, every time we are taking 1 fruit from 100 fruits. \n",
    "\n",
    "1. **What is the probability that the first 5 fruits are all apples?**\n",
    "\n",
    "1. **What is the probability that the first 5 fruits are all apples and the next 15 fruits are all oranges?**\n",
    "\n",
    "You can include the `p` and `q` probabilities you previous calculated in your solution."
   ]
  },
  {
   "cell_type": "code",
   "execution_count": 45,
   "metadata": {},
   "outputs": [
    {
     "name": "stdout",
     "output_type": "stream",
     "text": [
      "The probability of the first 5 being apples is: 0.07775999999999998\n",
      "The probability of the first 5 being apples followed by 15 oranges is: 8.349416423424006e-08\n"
     ]
    }
   ],
   "source": [
    "# your code here\n",
    "# What is the probability that the first 5 fruits are all apples?\n",
    "print('The probability of the first 5 being apples is:', 0.6**5)\n",
    "\n",
    "# What is the probability that the first 5 fruits are all apples and the next 15 fruits are all oranges?\n",
    "print('The probability of the first 5 being apples followed by 15 oranges is:', (0.6**5)*(0.4**15))\n"
   ]
  },
  {
   "cell_type": "markdown",
   "metadata": {},
   "source": [
    "## Binomial Distribution\n",
    "\n",
    "Similar to the above problem, this time again we randomly sample 20 fruits.\n",
    "\n",
    "**What is the probability that this time the sample contains 5 apples and 15 oranges?**\n",
    "\n",
    "Please note that this time the order of the fruits being picked does not matter."
   ]
  },
  {
   "cell_type": "code",
   "execution_count": 49,
   "metadata": {},
   "outputs": [
    {
     "name": "stdout",
     "output_type": "stream",
     "text": [
      "pmf: 0.0012944935222876511\n"
     ]
    }
   ],
   "source": [
    "# Solution\n",
    "\n",
    "n=20 \n",
    "p = 0.6\n",
    "binomial = stats.binom(n,p) \n",
    "# point mass function, probability of having one given value\n",
    "print('pmf:', binomial.pmf(5)) "
   ]
  },
  {
   "cell_type": "code",
   "execution_count": 85,
   "metadata": {},
   "outputs": [
    {
     "name": "stdout",
     "output_type": "stream",
     "text": [
      "pmf: 0.0012944935222876511\n"
     ]
    },
    {
     "data": {
      "image/png": "[encoded data removed]",
      "text/plain": [
       "<Figure size 432x288 with 1 Axes>"
      ]
     },
     "metadata": {
      "needs_background": "light"
     },
     "output_type": "display_data"
    }
   ],
   "source": [
    "\n",
    "n=20 # 20 trials\n",
    "p=0.6 # probability per trial (as in bernoulli)\n",
    "binomial = stats.binom(n,p) # creates binomial distribution\n",
    "# point mass function, probability of having one given value\n",
    "print('pmf:', binomial.pmf(5)) \n",
    "x = np.arange(0,6)\n",
    "fig, ax = plt.subplots(1, 1)\n",
    "ax.plot(x, stats.binom.pmf(x, n, p), 'bo')\n",
    "ax.vlines(x, 0, stats.binom.pmf(x, n, p), colors='b', lw=5, alpha=0.5)\n",
    "plt.show()"
   ]
  },
  {
   "cell_type": "code",
   "execution_count": 87,
   "metadata": {},
   "outputs": [
    {
     "name": "stdout",
     "output_type": "stream",
     "text": [
      "pmf: 0.0012944935222876511\n"
     ]
    },
    {
     "data": {
      "image/png": "[encoded data removed]",
      "text/plain": [
       "<Figure size 432x288 with 1 Axes>"
      ]
     },
     "metadata": {
      "needs_background": "light"
     },
     "output_type": "display_data"
    }
   ],
   "source": [
    "n=20 # 20 trials\n",
    "p=0.6 # probability per trial (as in bernoulli)\n",
    "binomial = stats.binom(n,p) # creates binomial distribution\n",
    "# point mass function, probability of having one given value\n",
    "print('pmf:', binomial.pmf(5)) \n",
    "x = np.arange(0,21) # to see 20 in the graph\n",
    "fig, ax = plt.subplots(1, 1)\n",
    "ax.plot(x, stats.binom.pmf(x, n, p), 'bo')\n",
    "ax.vlines(x, 0, stats.binom.pmf(x, n, p), colors='b', lw=5, alpha=0.5)\n",
    "plt.show()"
   ]
  },
  {
   "cell_type": "markdown",
   "metadata": {},
   "source": [
    "In the lesson we also discussed CDF (cumulative distribution function). In the context of the above problem, **what is the probability that less than 5 fruits picked are apples?**\n",
    "\n",
    "Write the formula and calculate the probability below."
   ]
  },
  {
   "cell_type": "code",
   "execution_count": 50,
   "metadata": {},
   "outputs": [
    {
     "name": "stdout",
     "output_type": "stream",
     "text": [
      "cdf: 0.0003170311211686301\n"
     ]
    }
   ],
   "source": [
    "# your code here\n",
    "\n",
    "n=20 \n",
    "p = 0.6\n",
    "binomial = stats.binom(n,p) \n",
    "print('cdf:', binomial.cdf(4)) "
   ]
  },
  {
   "cell_type": "code",
   "execution_count": 83,
   "metadata": {},
   "outputs": [
    {
     "name": "stdout",
     "output_type": "stream",
     "text": [
      "cdf: 0.001611524643456288\n"
     ]
    },
    {
     "data": {
      "image/png": "[encoded data removed]",
      "text/plain": [
       "<Figure size 432x288 with 1 Axes>"
      ]
     },
     "metadata": {
      "needs_background": "light"
     },
     "output_type": "display_data"
    }
   ],
   "source": [
    "n=20 \n",
    "p = 0.6\n",
    "binomial = stats.binom(n,p)\n",
    "# cumulative distribution function, probability of having up to one given value \n",
    "# (sum of probs of all values up to a given value)\n",
    "print('cdf:', binomial.cdf(5)) \n",
    "x = np.arange(0,5)\n",
    "fig, ax = plt.subplots(1, 1)\n",
    "ax.plot(x, stats.binom.cdf(x, n, p), 'bo')\n",
    "ax.vlines(x, 0, stats.binom.cdf(x, n, p), colors='b', lw=5, alpha=0.5)\n",
    "plt.show()\n"
   ]
  },
  {
   "cell_type": "markdown",
   "metadata": {},
   "source": [
    "**Plot the PDF (probability distribution function) for the above binomial distribution.**\n",
    "\n",
    "*Hint: The range of x in a binomial distribution is from `0` to `n`.*"
   ]
  },
  {
   "cell_type": "code",
   "execution_count": 86,
   "metadata": {},
   "outputs": [
    {
     "data": {
      "image/png": "[encoded data removed]",
      "text/plain": [
       "<Figure size 432x288 with 1 Axes>"
      ]
     },
     "metadata": {
      "needs_background": "light"
     },
     "output_type": "display_data"
    }
   ],
   "source": [
    "# your code here\n",
    "# Please label the axes and give a title to the plot\n",
    "\n",
    "n=20 \n",
    "p = 0.6\n",
    "binomial = stats.binom(n,p) \n",
    "# cumulative distribution function, probability of having up to one given value \n",
    "# (sum of probs of all values up to a given value)print('cdf:', binomial.cdf(5)) \n",
    "x = np.arange(0,5)\n",
    "fig, ax = plt.subplots(1, 1)\n",
    "ax.plot(x, stats.binom.cdf(x, n, p), 'bo')\n",
    "ax.vlines(x, 0, stats.binom.cdf(x, n, p), colors='b', lw=5, alpha=0.5)\n",
    "plt.xlabel('Trials')\n",
    "plt.ylabel('Probability')\n",
    "plt.title('CDF of binomial distribution')\n",
    "plt.show()"
   ]
  },
  {
   "cell_type": "markdown",
   "metadata": {},
   "source": [
    "## Poisson Distribution\n",
    "\n",
    "In this challenge you are required to use the Math library in python to solve the problems.\n",
    "\n",
    "In the UEFA champions league tournament, the average number of goals scored in a match is 2.3. \n",
    "\n",
    "**What is the probability that the number of goals scored in a match is 5?**\n",
    "\n",
    "*Hint: Use the exp() in the math library*\n",
    "\n",
    "And to calculate the factorial, you can use the following code:\n",
    "\n",
    "```python\n",
    "import math\n",
    "math.factorial(n) # n is the number you want to find the factorial of\n",
    "```"
   ]
  },
  {
   "cell_type": "code",
   "execution_count": 63,
   "metadata": {},
   "outputs": [
    {
     "data": {
      "text/plain": [
       "0.03874319524474144"
      ]
     },
     "execution_count": 63,
     "metadata": {},
     "output_type": "execute_result"
    }
   ],
   "source": [
    "# your code here\n",
    "\n",
    "#Felipe Barrocas\n",
    "# Poisson = I know it rains one in 7 days and I want to know if it will rain\n",
    "# twice in 30 days\n",
    "#Two inputs for the formula: the frequency/times I want the event to happen\n",
    "#(in this case 2) and the timespan I want it to happen in (30 days)\n",
    "# another example: I know a computer breaks in 10 yrs, what is the probability\n",
    "# that it breaks in 5 yrs?\n",
    "# 1/10 probability of breaking,1 time,5 would be the inputs into the function\n",
    "\n",
    "average_goals = 2.3\n",
    "n_goals = 5\n",
    "\n",
    "# PMF Poisson\n",
    "f = ( (5*2) * (math.exp(-5) ) ) / math.factorial(2)\n",
    "f\n"
   ]
  },
  {
   "cell_type": "markdown",
   "metadata": {},
   "source": [
    "**Draw a Poisson probability distribution plot for the number of goals to be between 0 to 10.**"
   ]
  },
  {
   "cell_type": "code",
   "execution_count": 90,
   "metadata": {},
   "outputs": [
    {
     "name": "stdout",
     "output_type": "stream",
     "text": [
      "5.0\n"
     ]
    },
    {
     "data": {
      "image/png": "[encoded data removed]",
      "text/plain": [
       "<Figure size 432x288 with 1 Axes>"
      ]
     },
     "metadata": {
      "needs_background": "light"
     },
     "output_type": "display_data"
    }
   ],
   "source": [
    "# your code here\n",
    "# Please label the axes and give a title to the plot \n",
    "\n",
    "# mu is the expectation\n",
    "mu = 5\n",
    "mean, var, skew, kurt = stats.poisson.stats(mu, moments='mvsk')\n",
    "print(mean)\n",
    "\n",
    "x = np.arange(stats.poisson.ppf(0.00001, mu), stats.poisson.ppf(0.9999, mu))\n",
    "plt.plot(x, stats.poisson.pmf(x, mu), 'bo', ms=8, label='poisson pmf')\n",
    "plt.show()"
   ]
  }
 ],
 "metadata": {
  "kernelspec": {
   "display_name": "Python 3",
   "language": "python",
   "name": "python3"
  },
  "language_info": {
   "codemirror_mode": {
    "name": "ipython",
    "version": 3
   },
   "file_extension": ".py",
   "mimetype": "text/x-python",
   "name": "python",
   "nbconvert_exporter": "python",
   "pygments_lexer": "ipython3",
   "version": "3.7.6"
  }
 },
 "nbformat": 4,
 "nbformat_minor": 2
}
